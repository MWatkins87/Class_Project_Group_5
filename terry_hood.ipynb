{
 "cells": [
  {
   "cell_type": "code",
   "execution_count": 1,
   "metadata": {},
   "outputs": [
    {
     "data": {
      "text/plain": [
       "False"
      ]
     },
     "execution_count": 1,
     "metadata": {},
     "output_type": "execute_result"
    }
   ],
   "source": [
    "import requests\n",
    "import json\n",
    "import pandas as pd\n",
    "from dotenv import load_dotenv\n",
    "import os\n",
    "import time\n",
    "import numpy as np\n",
    "import matplotlib.pyplot as plt\n",
    "load_dotenv()"
   ]
  },
  {
   "cell_type": "code",
   "execution_count": null,
   "metadata": {},
   "outputs": [],
   "source": [
    "# Pull airbnb data"
   ]
  },
  {
   "cell_type": "code",
   "execution_count": null,
   "metadata": {},
   "outputs": [],
   "source": [
    "cities=[\"Atlanta\",\"Detroit\", \"Tampa\", \"Las Vegas\", \"Miami\", \"New Orleans\", \"Washington\", \"Baltimore\", \"Portland\", \"San Francisco\"]\n",
    "filtered_df = college20_21[college20_21.isin(cities).any(axis=1)]\n",
    "filtered_df.head(40)"
   ]
  },
  {
   "cell_type": "code",
   "execution_count": null,
   "metadata": {},
   "outputs": [],
   "source": [
    "house_values_df = pd.read_csv(\"house_values_zillow.csv\")\n",
    "hv_filtered = house_values_df[[\"RegionName\", \"StateName\", \"Metro\",\"2012-01-31\",\"2013-01-31\",\"2014-01-31\",\"2015-01-31\",\"2016-01-31\",\"2017-01-31\",\"2018-01-31\",\"2019-01-31\",\"2020-01-31\",\"2021-01-31\",\"2022-01-31\"]] #only the columns I want\n",
    "\n",
    "states = [\"GA\",\"CA\", \"DC\", \"MI\", \"FL\", \"LA\", \"MD\", \"OR\", \"NV\"]\n",
    "metro = [\"Las Vegas-Henderson-Paradise, NV\", \"San Francisco-Oakland-Berkeley, CA\", \"Miami-Fort Lauderdale-Pompano Beach, FL\", \"Portland-Vancouver-Hillsboro, OR-WA\", \"Washington-Arlington-Alexandria, DC-VA-MD-WV\", \"Detroit-Warren-Dearborn, MI\", \"Baltimore-Columbia-Towson, MD\", \"Atlanta-Sandy Springs-Alpharetta, GA\", \"Tampa-St. Petersburg-Clearwater, FL\", \"New Orleans-Metairie, LA\"]\n",
    "years = np.arange(2012,2022,1)\n",
    "filtered_states_df = hv_filtered[hv_filtered.isin(states).any(axis=1)]\n",
    "filtered_cities_df = filtered_states_df[filtered_states_df.isin(cities).any(axis=1)]\n",
    "filtered_metro_df = filtered_cities_df[filtered_cities_df.isin(metro).any(axis=1)]\n",
    "# filtered_hv_21_22_df.head(10)\n",
    "filtered_metro_df['2012-01-31'] = filtered_metro_df['2012-01-31'].fillna(0)\n",
    "filtered_metro_df['2013-01-31'] = filtered_metro_df['2013-01-31'].fillna(0)\n",
    "filtered_metro_df['2014-01-31'] = filtered_metro_df['2014-01-31'].fillna(0)\n",
    "filtered_metro_df['2015-01-31'] = filtered_metro_df['2015-01-31'].fillna(0)\n",
    "filtered_metro_df['2016-01-31'] = filtered_metro_df['2016-01-31'].fillna(0)\n",
    "filtered_metro_df['2017-01-31'] = filtered_metro_df['2017-01-31'].fillna(0)\n",
    "filtered_metro_df['2018-01-31'] = filtered_metro_df['2018-01-31'].fillna(0)\n",
    "filtered_metro_df['2019-01-31'] = filtered_metro_df['2019-01-31'].fillna(0)\n",
    "filtered_metro_df['2020-01-31'] = filtered_metro_df['2020-01-31'].fillna(0)\n",
    "filtered_metro_df['2021-01-31'] = filtered_metro_df['2021-01-31'].fillna(0)\n",
    "filtered_metro_df['2022-01-31'] = filtered_metro_df['2022-01-31'].fillna(0)\n",
    "# filtered_hv_21_22_df.head(50)\n",
    "filtered_metro_df['2012-01-31'] = round(filtered_metro_df['2012-01-31'], 2)\n",
    "filtered_metro_df['2013-01-31'] = round(filtered_metro_df['2013-01-31'], 2)\n",
    "filtered_metro_df['2014-01-31'] = round(filtered_metro_df['2014-01-31'], 2)\n",
    "filtered_metro_df['2015-01-31'] = round(filtered_metro_df['2015-01-31'], 2)\n",
    "filtered_metro_df['2016-01-31'] = round(filtered_metro_df['2016-01-31'], 2)\n",
    "filtered_metro_df['2017-01-31'] = round(filtered_metro_df['2017-01-31'], 2)\n",
    "filtered_metro_df['2018-01-31'] = round(filtered_metro_df['2018-01-31'], 2)\n",
    "filtered_metro_df['2019-01-31'] = round(filtered_metro_df['2019-01-31'], 2)\n",
    "filtered_metro_df['2020-01-31'] = round(filtered_metro_df['2020-01-31'], 2)\n",
    "filtered_metro_df['2021-01-31'] = round(filtered_metro_df['2021-01-31'], 2)\n",
    "filtered_metro_df['2022-01-31'] = round(filtered_metro_df['2022-01-31'], 2)\n",
    "filtered_metro_df = filtered_metro_df.rename(columns={\"RegionName\":\"Year\"})\n",
    "for i in range(2012,2023):\n",
    "    filtered_metro_df = filtered_metro_df.rename(columns={f\"{i}-01-31\":f\"{i}\"})\n",
    "real_estate_prices = filtered_metro_df.set_index(\"Year\")\n",
    "real_estate_prices.head(20)"
   ]
  }
 ],
 "metadata": {
  "kernelspec": {
   "display_name": "dev",
   "language": "python",
   "name": "python3"
  },
  "language_info": {
   "codemirror_mode": {
    "name": "ipython",
    "version": 3
   },
   "file_extension": ".py",
   "mimetype": "text/x-python",
   "name": "python",
   "nbconvert_exporter": "python",
   "pygments_lexer": "ipython3",
   "version": "3.10.13"
  }
 },
 "nbformat": 4,
 "nbformat_minor": 2
}
